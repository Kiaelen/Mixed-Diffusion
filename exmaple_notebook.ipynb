{
 "cells": [
  {
   "cell_type": "code",
   "execution_count": null,
   "metadata": {},
   "outputs": [],
   "source": [
    "!pip install -q \\\n",
    "  diffusers \\\n",
    "  transformers \\\n",
    "  safetensors \\\n",
    "  sentencepiece \\\n",
    "  accelerate \\\n",
    "  bitsandbytes \\\n",
    "  einops \\\n",
    "  mediapy \\\n",
    "  lightning \\\n",
    "  rootutils \\\n",
    "  gpustat \\\n",
    "  nvitop \\\n",
    "  sentencepiece \\\n",
    "  bitsandbytes \\\n",
    "  hydra-optuna-sweeper \\\n",
    "  hydra-colorlog\n",
    "!pip install -q hydra-core --upgrade\n",
    "!pip install moviepy\n",
    "!apt install imagemagick\n",
    "!apt install libmagick++-dev\n",
    "!cat /etc/ImageMagick-6/policy.xml | sed 's/none/read,write/g'> /etc/ImageMagick-6/policy.xml"
   ]
  },
  {
   "cell_type": "code",
   "execution_count": null,
   "metadata": {},
   "outputs": [],
   "source": [
    "from huggingface_hub import login\n",
    "\n",
    "token = \"Your token\"\n",
    "login(token=token)"
   ]
  },
  {
   "cell_type": "code",
   "execution_count": null,
   "metadata": {},
   "outputs": [],
   "source": [
    "%cd /content/Mixed-Diffusion/\n",
    "!python mixed.py"
   ]
  }
 ],
 "metadata": {
  "kernelspec": {
   "display_name": "base",
   "language": "python",
   "name": "python3"
  },
  "language_info": {
   "codemirror_mode": {
    "name": "ipython",
    "version": 3
   },
   "file_extension": ".py",
   "mimetype": "text/x-python",
   "name": "python",
   "nbconvert_exporter": "python",
   "pygments_lexer": "ipython3",
   "version": "3.11.5"
  }
 },
 "nbformat": 4,
 "nbformat_minor": 2
}
