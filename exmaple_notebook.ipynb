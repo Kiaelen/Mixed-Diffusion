{
 "cells": [
  {
   "cell_type": "code",
   "execution_count": null,
   "metadata": {},
   "outputs": [],
   "source": [
    "!pip install -q \\\n",
    "  diffusers \\\n",
    "  transformers \\\n",
    "  safetensors \\\n",
    "  sentencepiece \\\n",
    "  accelerate \\\n",
    "  bitsandbytes \\\n",
    "  einops \\\n",
    "  mediapy \\\n",
    "  lightning \\\n",
    "  rootutils \\\n",
    "  gpustat \\\n",
    "  nvitop \\\n",
    "  sentencepiece \\\n",
    "  bitsandbytes \\\n",
    "  hydra-optuna-sweeper \\\n",
    "  hydra-colorlog\n",
    "!pip install -q hydra-core --upgrade\n",
    "!pip install moviepy\n",
    "!apt install imagemagick\n",
    "!apt install libmagick++-dev\n",
    "!cat /etc/ImageMagick-6/policy.xml | sed 's/none/read,write/g'> /etc/ImageMagick-6/policy.xml"
   ]
  },
  {
   "cell_type": "code",
   "execution_count": null,
   "metadata": {},
   "outputs": [],
   "source": [
    "%cd /content\n",
    "!rm -r /content/Mixed-Diffusion\n",
    "!git clone https://github.com/Kiaelen/Mixed-Diffusion.git"
   ]
  },
  {
   "cell_type": "code",
   "execution_count": null,
   "metadata": {},
   "outputs": [],
   "source": [
    "from huggingface_hub import login\n",
    "\n",
    "token = \"Your token\"\n",
    "login(token=token)"
   ]
  },
  {
   "cell_type": "code",
   "execution_count": null,
   "metadata": {},
   "outputs": [],
   "source": [
    "%cd /content/Mixed-Diffusion/\n",
    "!python mixed.py"
   ]
  }
 ],
 "metadata": {
  "kernelspec": {
   "display_name": "base",
   "language": "python",
   "name": "python3"
  },
  "language_info": {
   "name": "python",
   "version": "3.11.5"
  }
 },
 "nbformat": 4,
 "nbformat_minor": 2
}
